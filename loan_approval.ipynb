{
 "cells": [
  {
   "cell_type": "code",
   "execution_count": null,
   "id": "cefcff56-7b3e-47d7-a2fc-a61238703447",
   "metadata": {},
   "outputs": [],
   "source": [
    "import pandas as pd\n",
    "import numpy as np\n",
    "from sklearn.preprocessing import MinMaxScaler\n",
    "from sklearn.model_selection import train_test_split\n",
    "from sklearn.linear_model import LogisticRegression\n",
    "from sklearn.metrics import accuracy_score\n",
    "from sklearn.preprocessing import LabelEncoder\n",
    "import joblib"
   ]
  },
  {
   "cell_type": "code",
   "execution_count": null,
   "id": "623fc965-1dc8-4a7a-b60d-f93c63ce5ec7",
   "metadata": {},
   "outputs": [],
   "source": [
    "df = pd.read_csv('loan.csv')\n",
    "df.head()"
   ]
  },
  {
   "cell_type": "code",
   "execution_count": null,
   "id": "36590a32-283a-4c07-b5c5-f11d5c9ae0ef",
   "metadata": {},
   "outputs": [],
   "source": [
    "df.info()"
   ]
  },
  {
   "cell_type": "code",
   "execution_count": null,
   "id": "e63ca555-c81a-4874-9848-5697cfa1b16f",
   "metadata": {},
   "outputs": [],
   "source": [
    "df.drop('Loan_ID', axis=1, inplace=True)\n",
    "df.head()"
   ]
  },
  {
   "cell_type": "code",
   "execution_count": null,
   "id": "aeeb20d6-dee7-4570-8294-779a5619ad51",
   "metadata": {},
   "outputs": [],
   "source": [
    "numerical_cols = ['ApplicantIncome', 'CoapplicantIncome', 'LoanAmount', 'Loan_Amount_Term']\n",
    "for col in numerical_cols:\n",
    "    df[col].fillna(df[col].median(), inplace=True)"
   ]
  },
  {
   "cell_type": "code",
   "execution_count": null,
   "id": "60c6e620",
   "metadata": {},
   "outputs": [],
   "source": [
    "categorical_cols = ['Gender', 'Married', 'Dependents', 'Self_Employed', 'Credit_History']\n",
    "for col in categorical_cols:\n",
    "    df[col].fillna('Unknown', inplace=True)"
   ]
  },
  {
   "cell_type": "code",
   "execution_count": null,
   "id": "d06620a8-6fa8-4f07-a122-b637419ef39c",
   "metadata": {},
   "outputs": [],
   "source": [
    "for col in categorical_cols + numerical_cols:\n",
    "    df[col + '_Missing'] = df[col].isnull().astype(int)"
   ]
  },
  {
   "cell_type": "code",
   "execution_count": null,
   "id": "c68c0655-8580-4356-a6de-796fef52be80",
   "metadata": {},
   "outputs": [],
   "source": [
    "print(df.columns)"
   ]
  },
  {
   "cell_type": "code",
   "execution_count": null,
   "id": "cf1ce4de-f115-40e4-9405-c49970ff746c",
   "metadata": {
    "scrolled": true
   },
   "outputs": [],
   "source": [
    "label_encoder = LabelEncoder()\n",
    "\n",
    "for col in df.columns:\n",
    "    if df[col].dtype == 'object':\n",
    "        df[col] = df[col].astype(str)\n",
    "    else:\n",
    "        df[col] = df[col].astype(str)\n",
    "    df[col] = label_encoder.fit_transform(df[col])"
   ]
  },
  {
   "cell_type": "code",
   "execution_count": null,
   "id": "0f18924e-da6d-407e-b471-107d6ea689a0",
   "metadata": {},
   "outputs": [],
   "source": [
    "X = df.drop([\"Loan_Status_Y\"], axis=1)\n",
    "y = df[\"Loan_Status_Y\"]"
   ]
  },
  {
   "cell_type": "code",
   "execution_count": null,
   "id": "88ae50e5-687a-421e-ac4f-0d7bc937dc21",
   "metadata": {
    "scrolled": true
   },
   "outputs": [],
   "source": [
    "scaler = MinMaxScaler()\n",
    "X = scaler.fit_transform(X)\n",
    "\n",
    "X_train, X_test, y_train, y_test = train_test_split(X, y, test_size=0.078, random_state=0)\n",
    "\n",
    "LogReg = LogisticRegression(solver='saga', max_iter=500, random_state=1)\n",
    "History = LogReg.fit(X_train, y_train)\n",
    "\n",
    "print(History)\n",
    "\n",
    "y_pred = LogReg.predict(X_test)\n",
    "\n",
    "LRAcc = accuracy_score(y_pred, y_test)\n",
    "print('LR accuracy: {:.2f}%'.format(LRAcc * 100))"
   ]
  },
  {
   "cell_type": "code",
   "execution_count": null,
   "id": "8deff717-f891-4509-9467-0974a2bb8858",
   "metadata": {},
   "outputs": [],
   "source": [
    "joblib.dump(LogReg, 'loanmodel.pkl')"
   ]
  }
 ],
 "metadata": {
  "kernelspec": {
   "display_name": "Python 3 (ipykernel)",
   "language": "python",
   "name": "python3"
  },
  "language_info": {
   "codemirror_mode": {
    "name": "ipython",
    "version": 3
   },
   "file_extension": ".py",
   "mimetype": "text/x-python",
   "name": "python",
   "nbconvert_exporter": "python",
   "pygments_lexer": "ipython3",
   "version": "3.9.13"
  }
 },
 "nbformat": 4,
 "nbformat_minor": 5
}
